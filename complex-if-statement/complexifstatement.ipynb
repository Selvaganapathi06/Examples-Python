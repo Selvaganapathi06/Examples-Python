{
 "cells": [
  {
   "cell_type": "code",
   "execution_count": 2,
   "metadata": {},
   "outputs": [
    {
     "name": "stdout",
     "output_type": "stream",
     "text": [
      "Enter yuor favorte sport: hockey\n",
      "Enter your favorte team: sankar boys\n",
      "Go Ahead Hockey\n",
      "Good luck team to get a cup\n"
     ]
    }
   ],
   "source": [
    "#If statement example1:\n",
    "sport = input(\"Enter yuor favorte sport: \").upper()\n",
    "team = input(\"Enter your favorte team: \").upper()\n",
    "if sport == 'HOCKEY':\n",
    "    print(\"Go Ahead Hockey\")\n",
    "    if team == 'SANKAR BOYS':\n",
    "        print(\"Good luck team to get a cup\")"
   ]
  },
  {
   "cell_type": "code",
   "execution_count": 8,
   "metadata": {},
   "outputs": [
    {
     "name": "stdout",
     "output_type": "stream",
     "text": [
      "Enter yuor favorte sport: tennis\n",
      "Enter your favorte team: csk\n",
      "Good luck csk to winning a cup\n"
     ]
    }
   ],
   "source": [
    "#If statement example2\n",
    "sport = input(\"Enter yuor favorte sport: \").upper()\n",
    "team = input(\"Enter your favorte team: \").upper()\n",
    "sportsistennis = False\n",
    "if sport == 'TENNIS':\n",
    "    sportsistennis = True\n",
    "teamiscsk=False\n",
    "if team == 'CSK':\n",
    "    teamiscsk=True\n",
    "if sportsistennis and teamiscsk:\n",
    "    print(\"Good luck csk to winning a cup\")\n"
   ]
  },
  {
   "cell_type": "code",
   "execution_count": 9,
   "metadata": {},
   "outputs": [
    {
     "name": "stdout",
     "output_type": "stream",
     "text": [
      "Enter yuor favorte sport: cricket\n",
      "Enter your favorte team: kkr\n",
      "Good luck team to winning a cup\n"
     ]
    }
   ],
   "source": [
    "#If statement example3\n",
    "sport = input(\"Enter yuor favorte sport: \").upper()\n",
    "team = input(\"Enter your favorte team: \").upper()\n",
    "if sport == 'CRICKET' and (team =='CSK' or team =='KKR'):\n",
    "    print(\"Good luck team to winning a cup\")\n",
    "    "
   ]
  }
 ],
 "metadata": {
  "kernelspec": {
   "display_name": "Python 3",
   "language": "python",
   "name": "python3"
  },
  "language_info": {
   "codemirror_mode": {
    "name": "ipython",
    "version": 3
   },
   "file_extension": ".py",
   "mimetype": "text/x-python",
   "name": "python",
   "nbconvert_exporter": "python",
   "pygments_lexer": "ipython3",
   "version": "3.7.3"
  }
 },
 "nbformat": 4,
 "nbformat_minor": 2
}
