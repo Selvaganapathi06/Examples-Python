{
 "cells": [
  {
   "cell_type": "code",
   "execution_count": null,
   "metadata": {},
   "outputs": [],
   "source": [
    "for n in range(int(input())):\n",
    "    s = input()\n",
    "    a=\"\"\n",
    "    b=\"\"\n",
    "    for i in range(0,len(s)):\n",
    "        if i%2 ==0:\n",
    "            a=a+s[i]\n",
    "        else:\n",
    "            b=b+s[i]\n",
    "   \n",
    "    \n",
    "    res =a+ \" \"+b\n",
    "    print(res)"
   ]
  },
  {
   "cell_type": "code",
   "execution_count": 9,
   "metadata": {},
   "outputs": [
    {
     "name": "stdout",
     "output_type": "stream",
     "text": [
      "2\n",
      "rajesh\n",
      "rjs aeh\n",
      "selva\n",
      "sla ev\n"
     ]
    }
   ],
   "source": [
    "for N in range(int(input())):\n",
    "    S = input()\n",
    "    print(S[::2], S[1::2])"
   ]
  },
  {
   "cell_type": "code",
   "execution_count": null,
   "metadata": {},
   "outputs": [],
   "source": [
    "a = int(input(\" \"))\n",
    "for n in range(0, a):\n",
    "    s =input()\n",
    "    print(s[::2], s[1::2])\n",
    "    \n",
    "    "
   ]
  }
 ],
 "metadata": {
  "kernelspec": {
   "display_name": "Python 3",
   "language": "python",
   "name": "python3"
  },
  "language_info": {
   "codemirror_mode": {
    "name": "ipython",
    "version": 3
   },
   "file_extension": ".py",
   "mimetype": "text/x-python",
   "name": "python",
   "nbconvert_exporter": "python",
   "pygments_lexer": "ipython3",
   "version": "3.7.3"
  }
 },
 "nbformat": 4,
 "nbformat_minor": 2
}
