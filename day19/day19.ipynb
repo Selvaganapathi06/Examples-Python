{
 "cells": [
  {
   "cell_type": "code",
   "execution_count": 5,
   "metadata": {},
   "outputs": [
    {
     "data": {
      "text/plain": [
       "'take care of front end'"
      ]
     },
     "execution_count": 5,
     "metadata": {},
     "output_type": "execute_result"
    }
   ],
   "source": [
    "#super class and sub class\n",
    "class Parent:\n",
    "    var1 = \"building the console\"\n",
    "    var2 = \"take care of front end\"\n",
    "Parentobj = Parent()\n",
    "Parentobj.var2\n",
    "\n",
    "\n"
   ]
  },
  {
   "cell_type": "code",
   "execution_count": 10,
   "metadata": {},
   "outputs": [
    {
     "data": {
      "text/plain": [
       "'take care of front end'"
      ]
     },
     "execution_count": 10,
     "metadata": {},
     "output_type": "execute_result"
    }
   ],
   "source": [
    "#super class and sub class\n",
    "class Parent:\n",
    "    var1 = \"building the console\"\n",
    "    var2 = \"take care of front end\"\n",
    "Parentobj = Parent()\n",
    "Parentobj.var2\n",
    "class Child(Parent):\n",
    "    var3 = \"take care of back end\"\n",
    "childobj = Child()\n",
    "childobj.var1\n",
    "childobj.var2\n",
    "\n"
   ]
  },
  {
   "cell_type": "code",
   "execution_count": 12,
   "metadata": {},
   "outputs": [
    {
     "name": "stdout",
     "output_type": "stream",
     "text": [
      "i am doing good\n",
      "i am well\n"
     ]
    }
   ],
   "source": [
    "#Constructor\n",
    "class New:\n",
    "    def __init__(self):\n",
    "        print(\"i am doing good\")\n",
    "        print(\"i am well\")\n",
    "newobj = New()"
   ]
  },
  {
   "cell_type": "code",
   "execution_count": null,
   "metadata": {},
   "outputs": [],
   "source": []
  }
 ],
 "metadata": {
  "kernelspec": {
   "display_name": "Python 3",
   "language": "python",
   "name": "python3"
  },
  "language_info": {
   "codemirror_mode": {
    "name": "ipython",
    "version": 3
   },
   "file_extension": ".py",
   "mimetype": "text/x-python",
   "name": "python",
   "nbconvert_exporter": "python",
   "pygments_lexer": "ipython3",
   "version": "3.7.3"
  }
 },
 "nbformat": 4,
 "nbformat_minor": 2
}
