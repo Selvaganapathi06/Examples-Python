{
 "cells": [
  {
   "cell_type": "code",
   "execution_count": 4,
   "metadata": {},
   "outputs": [
    {
     "name": "stdout",
     "output_type": "stream",
     "text": [
      "\n",
      "key :uname\n",
      "value: first\n",
      "\n",
      "key :first\n",
      "value: selva\n",
      "\n",
      "key :last\n",
      "value: gana\n"
     ]
    }
   ],
   "source": [
    "#looping through dictionaries\n",
    "un = {'uname':'first','first':'selva','last':'gana',\n",
    "     }\n",
    "for key,value in un.items():\n",
    "    print(f\"\\nkey :{key}\")\n",
    "    print(f\"value: {value}\")"
   ]
  },
  {
   "cell_type": "code",
   "execution_count": 5,
   "metadata": {},
   "outputs": [
    {
     "name": "stdout",
     "output_type": "stream",
     "text": [
      "\n",
      "key :uname\n",
      "\n",
      "key :first\n",
      "\n",
      "key :last\n"
     ]
    }
   ],
   "source": [
    "#looping through dictionaries only in key\n",
    "\n",
    "un = {'uname':'first','first':'selva','last':'gana',\n",
    "     }\n",
    "for keyvalue in un.keys():\n",
    "    print(f\"\\nkey :{keyvalue}\")"
   ]
  },
  {
   "cell_type": "code",
   "execution_count": 8,
   "metadata": {},
   "outputs": [
    {
     "name": "stdout",
     "output_type": "stream",
     "text": [
      "\n",
      "value: first\n",
      "\n",
      "value: selva\n",
      "\n",
      "value: gana\n"
     ]
    }
   ],
   "source": [
    "#looping through dictionaries only in value\n",
    "un = {'uname':'first','first':'selva','last':'gana',\n",
    "     }\n",
    "for onlyval in un.values():\n",
    "    print(f\"\\nvalue: {onlyval}\")"
   ]
  },
  {
   "cell_type": "code",
   "execution_count": null,
   "metadata": {},
   "outputs": [],
   "source": []
  }
 ],
 "metadata": {
  "kernelspec": {
   "display_name": "Python 3",
   "language": "python",
   "name": "python3"
  },
  "language_info": {
   "codemirror_mode": {
    "name": "ipython",
    "version": 3
   },
   "file_extension": ".py",
   "mimetype": "text/x-python",
   "name": "python",
   "nbconvert_exporter": "python",
   "pygments_lexer": "ipython3",
   "version": "3.7.3"
  }
 },
 "nbformat": 4,
 "nbformat_minor": 2
}
