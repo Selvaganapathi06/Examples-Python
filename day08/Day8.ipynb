{
 "cells": [
  {
   "cell_type": "code",
   "execution_count": 1,
   "metadata": {},
   "outputs": [
    {
     "name": "stdout",
     "output_type": "stream",
     "text": [
      "300\n"
     ]
    }
   ],
   "source": [
    "#tuples to access last element\n",
    "x =(100,200,300)\n",
    "print(x[2])"
   ]
  },
  {
   "cell_type": "code",
   "execution_count": 2,
   "metadata": {},
   "outputs": [
    {
     "name": "stdout",
     "output_type": "stream",
     "text": [
      "300\n"
     ]
    }
   ],
   "source": [
    "#tuples negative indexing used to access last element\n",
    "x =(100,200,300)\n",
    "print(x[-1])"
   ]
  },
  {
   "cell_type": "code",
   "execution_count": 6,
   "metadata": {},
   "outputs": [
    {
     "name": "stdout",
     "output_type": "stream",
     "text": [
      "\n",
      "original value defined\n",
      "100\n",
      "200\n",
      "300\n",
      "\n",
      "modified value defined\n",
      "400\n",
      "500\n",
      "600\n"
     ]
    }
   ],
   "source": [
    "#Using for loop in tuple\n",
    "x =(100,200,300)\n",
    "print(\"\\noriginal value defined\")\n",
    "for y in x:\n",
    "    print(y)\n",
    "x =(400,500,600)\n",
    "print(\"\\nmodified value defined\")\n",
    "for y in x:\n",
    "    print(y)\n"
   ]
  },
  {
   "cell_type": "code",
   "execution_count": 8,
   "metadata": {},
   "outputs": [
    {
     "name": "stdout",
     "output_type": "stream",
     "text": [
      "Audi\n",
      "BMW\n",
      "Benz\n",
      "Toyota\n"
     ]
    }
   ],
   "source": [
    "#if statements\n",
    "cars = ['audi','bmw','benz','toyota']\n",
    "for x in cars:\n",
    "    if x ==\"bmw\":\n",
    "        print(x.upper())\n",
    "    else:\n",
    "        print(x.title())\n",
    "        "
   ]
  },
  {
   "cell_type": "code",
   "execution_count": 9,
   "metadata": {},
   "outputs": [
    {
     "data": {
      "text/plain": [
       "False"
      ]
     },
     "execution_count": 9,
     "metadata": {},
     "output_type": "execute_result"
    }
   ],
   "source": [
    "car = \"Audi\"\n",
    "car ==\"audi\"\n"
   ]
  },
  {
   "cell_type": "code",
   "execution_count": 10,
   "metadata": {},
   "outputs": [
    {
     "data": {
      "text/plain": [
       "True"
      ]
     },
     "execution_count": 10,
     "metadata": {},
     "output_type": "execute_result"
    }
   ],
   "source": [
    "car = \"Audi\"\n",
    "car.lower() ==\"audi\""
   ]
  },
  {
   "cell_type": "code",
   "execution_count": 11,
   "metadata": {},
   "outputs": [
    {
     "name": "stdout",
     "output_type": "stream",
     "text": [
      "get me laddu\n"
     ]
    }
   ],
   "source": [
    "# !=\n",
    "req_topping = \"bread\"\n",
    "if req_topping != \"Laddu\":\n",
    "    print(\"get me laddu\")"
   ]
  },
  {
   "cell_type": "code",
   "execution_count": null,
   "metadata": {},
   "outputs": [],
   "source": []
  }
 ],
 "metadata": {
  "kernelspec": {
   "display_name": "Python 3",
   "language": "python",
   "name": "python3"
  },
  "language_info": {
   "codemirror_mode": {
    "name": "ipython",
    "version": 3
   },
   "file_extension": ".py",
   "mimetype": "text/x-python",
   "name": "python",
   "nbconvert_exporter": "python",
   "pygments_lexer": "ipython3",
   "version": "3.7.3"
  }
 },
 "nbformat": 4,
 "nbformat_minor": 2
}
