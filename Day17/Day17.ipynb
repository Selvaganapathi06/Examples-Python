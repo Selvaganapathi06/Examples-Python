{
 "cells": [
  {
   "cell_type": "code",
   "execution_count": 4,
   "metadata": {},
   "outputs": [
    {
     "name": "stdout",
     "output_type": "stream",
     "text": [
      "jimmy is now siiting\n",
      "jimmy is now roll over\n",
      "my dog name is jimmy\n",
      "my dog age is 6\n"
     ]
    }
   ],
   "source": [
    "#creating the class\n",
    "class Dog:\n",
    "    \"\"\"simple dog class\"\"\"\n",
    "    def __init__(self,name,age):\n",
    "        self.name = name\n",
    "        self.age = age\n",
    "    def sit(self):\n",
    "        \"\"\"\"simulating sitting response from a dog\"\"\"\n",
    "        print(f\"{self.name} is now siiting\")\n",
    "        \n",
    "    def rollover(self):\n",
    "        \"\"\"simulating roll over command from the dog\"\"\"\n",
    "        print(f\"{self.name} is now roll over\")\n",
    "mydog = Dog(\"jimmy\",6)\n",
    "mydog.sit()\n",
    "mydog.rollover()\n",
    "print(f\"my dog name is {mydog.name}\")\n",
    "print(f\"my dog age is {mydog.age}\")\n",
    "    "
   ]
  },
  {
   "cell_type": "code",
   "execution_count": null,
   "metadata": {},
   "outputs": [],
   "source": []
  }
 ],
 "metadata": {
  "kernelspec": {
   "display_name": "Python 3",
   "language": "python",
   "name": "python3"
  },
  "language_info": {
   "codemirror_mode": {
    "name": "ipython",
    "version": 3
   },
   "file_extension": ".py",
   "mimetype": "text/x-python",
   "name": "python",
   "nbconvert_exporter": "python",
   "pygments_lexer": "ipython3",
   "version": "3.7.3"
  }
 },
 "nbformat": 4,
 "nbformat_minor": 2
}
