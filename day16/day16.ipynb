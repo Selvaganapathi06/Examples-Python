{
 "cells": [
  {
   "cell_type": "code",
   "execution_count": 3,
   "metadata": {},
   "outputs": [
    {
     "name": "stdout",
     "output_type": "stream",
     "text": [
      "my pet name is: babulu\n",
      "my pet name is: babulu and animal type: dog\n"
     ]
    }
   ],
   "source": [
    "#default value in function prameters\n",
    "def greet(pname, animal ='dog'):\n",
    "    print(f\"my pet name is: {pname}\")\n",
    "    print(f\"my pet name is: {pname} and animal type: {animal}\")\n",
    "greet(\"babulu\")"
   ]
  },
  {
   "cell_type": "code",
   "execution_count": 4,
   "metadata": {},
   "outputs": [
    {
     "name": "stdout",
     "output_type": "stream",
     "text": [
      "my pet name is: babulu\n",
      "my pet name is: babulu and animal type: horse\n"
     ]
    }
   ],
   "source": [
    "#default value in function prameters and passing arguments\n",
    "def greet(pname, animal ='dog'):\n",
    "    print(f\"my pet name is: {pname}\")\n",
    "    print(f\"my pet name is: {pname} and animal type: {animal}\")\n",
    "greet(\"babulu\", \"horse\")"
   ]
  },
  {
   "cell_type": "code",
   "execution_count": 6,
   "metadata": {},
   "outputs": [
    {
     "ename": "TypeError",
     "evalue": "greet() missing 1 required positional argument: 'animal'",
     "output_type": "error",
     "traceback": [
      "\u001b[1;31m---------------------------------------------------------------------------\u001b[0m",
      "\u001b[1;31mTypeError\u001b[0m                                 Traceback (most recent call last)",
      "\u001b[1;32m<ipython-input-6-428d6e1dd11f>\u001b[0m in \u001b[0;36m<module>\u001b[1;34m\u001b[0m\n\u001b[0;32m      3\u001b[0m     \u001b[0mprint\u001b[0m\u001b[1;33m(\u001b[0m\u001b[1;34mf\"my pet name is: {pname}\"\u001b[0m\u001b[1;33m)\u001b[0m\u001b[1;33m\u001b[0m\u001b[1;33m\u001b[0m\u001b[0m\n\u001b[0;32m      4\u001b[0m     \u001b[0mprint\u001b[0m\u001b[1;33m(\u001b[0m\u001b[1;34mf\"my pet name is: {pname} and animal type: {animal}\"\u001b[0m\u001b[1;33m)\u001b[0m\u001b[1;33m\u001b[0m\u001b[1;33m\u001b[0m\u001b[0m\n\u001b[1;32m----> 5\u001b[1;33m \u001b[0mgreet\u001b[0m\u001b[1;33m(\u001b[0m\u001b[1;34m\"babulu\"\u001b[0m\u001b[1;33m)\u001b[0m\u001b[1;33m\u001b[0m\u001b[1;33m\u001b[0m\u001b[0m\n\u001b[0m",
      "\u001b[1;31mTypeError\u001b[0m: greet() missing 1 required positional argument: 'animal'"
     ]
    }
   ],
   "source": [
    "#function parameter error scenarios\n",
    "def greet(pname, animal):\n",
    "    print(f\"my pet name is: {pname}\")\n",
    "    print(f\"my pet name is: {pname} and animal type: {animal}\")\n",
    "greet(\"babulu\")"
   ]
  },
  {
   "cell_type": "code",
   "execution_count": 8,
   "metadata": {},
   "outputs": [
    {
     "name": "stdout",
     "output_type": "stream",
     "text": [
      "{'firstname': 'selva', 'lastname': 'ganapathi'}\n"
     ]
    }
   ],
   "source": [
    "#function used return a value in dictionary format\n",
    "def func(fname,lname):\n",
    "    \"\"\"function used return a value in dictionary format\"\"\"\n",
    "    msg = {'firstname':fname,'lastname':lname}\n",
    "    print(msg)\n",
    "func(\"selva\",\"ganapathi\")"
   ]
  },
  {
   "cell_type": "code",
   "execution_count": 10,
   "metadata": {},
   "outputs": [
    {
     "name": "stdout",
     "output_type": "stream",
     "text": [
      "hello,Selva\n",
      "hello,Gana\n",
      "hello,Pathi\n"
     ]
    }
   ],
   "source": [
    "#passing a for loop in function\n",
    "def greet(names):\n",
    "    \"\"\"passing a for loop in function\"\"\"\n",
    "    for x in names:\n",
    "        print(f\"hello,{x.title()}\")\n",
    "cusnames = ['selva','gana','pathi']\n",
    "greet(cusnames)"
   ]
  },
  {
   "cell_type": "code",
   "execution_count": 13,
   "metadata": {},
   "outputs": [
    {
     "name": "stdout",
     "output_type": "stream",
     "text": [
      "('chicken pizza', 'veg pizza', 'egg pizza')\n"
     ]
    }
   ],
   "source": [
    "#Passing arbitary no of arguments\n",
    "def make_pizza(*topping):\n",
    "    print(topping)\n",
    "make_pizza(\"chicken pizza\",\"veg pizza\",\"egg pizza\")"
   ]
  },
  {
   "cell_type": "code",
   "execution_count": null,
   "metadata": {},
   "outputs": [],
   "source": []
  }
 ],
 "metadata": {
  "kernelspec": {
   "display_name": "Python 3",
   "language": "python",
   "name": "python3"
  },
  "language_info": {
   "codemirror_mode": {
    "name": "ipython",
    "version": 3
   },
   "file_extension": ".py",
   "mimetype": "text/x-python",
   "name": "python",
   "nbconvert_exporter": "python",
   "pygments_lexer": "ipython3",
   "version": "3.7.3"
  }
 },
 "nbformat": 4,
 "nbformat_minor": 2
}
