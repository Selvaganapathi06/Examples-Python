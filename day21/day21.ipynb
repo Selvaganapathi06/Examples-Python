{
 "cells": [
  {
   "cell_type": "code",
   "execution_count": 5,
   "metadata": {},
   "outputs": [
    {
     "name": "stdout",
     "output_type": "stream",
     "text": [
      "I am your mom\n",
      "I am your dad\n",
      "I am your son\n"
     ]
    }
   ],
   "source": [
    "#Using Parent class\n",
    "class Mom:\n",
    "    var1 = \"I am your mom\"\n",
    "class Dad:\n",
    "    var2 =\"I am your dad\"\n",
    "#Child class\n",
    "class Child(Mom,Dad):\n",
    "    var3 = \"I am your son\"\n",
    "cobj = Child()\n",
    "print(cobj.var1)\n",
    "print(cobj.var2)\n",
    "print(cobj.var3)"
   ]
  }
 ],
 "metadata": {
  "kernelspec": {
   "display_name": "Python 3",
   "language": "python",
   "name": "python3"
  },
  "language_info": {
   "codemirror_mode": {
    "name": "ipython",
    "version": 3
   },
   "file_extension": ".py",
   "mimetype": "text/x-python",
   "name": "python",
   "nbconvert_exporter": "python",
   "pygments_lexer": "ipython3",
   "version": "3.7.3"
  }
 },
 "nbformat": 4,
 "nbformat_minor": 2
}
