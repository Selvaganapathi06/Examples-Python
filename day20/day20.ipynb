{
 "cells": [
  {
   "cell_type": "code",
   "execution_count": 1,
   "metadata": {},
   "outputs": [
    {
     "name": "stdout",
     "output_type": "stream",
     "text": [
      "Audi A4 2019\n"
     ]
    }
   ],
   "source": [
    "#Class completed example\n",
    "class Car:\n",
    "    \"\"\"represent a car\"\"\"\n",
    "    def __init__(self,make,model,year):\n",
    "        \"\"\"initilize attribute to describe the car\"\"\"\n",
    "        self.make = make\n",
    "        self.model = model\n",
    "        self.year = year\n",
    "    def describe(self):\n",
    "        \"\"\"returned a neatly formatted name\"\"\"\n",
    "        long_name = f\"{self.make} {self.model} {self.year}\"\n",
    "        return long_name.title()\n",
    "mynewcar = Car('audi','a4','2019')\n",
    "print(mynewcar.describe())"
   ]
  },
  {
   "cell_type": "code",
   "execution_count": 2,
   "metadata": {},
   "outputs": [
    {
     "name": "stdout",
     "output_type": "stream",
     "text": [
      "Audi A4 2019\n",
      "This is meter reading: 0\n",
      "None\n"
     ]
    }
   ],
   "source": [
    "#setting default values\n",
    "class Car:\n",
    "    \"\"\"represent a car\"\"\"\n",
    "    def __init__(self,make,model,year,meter):\n",
    "        \"\"\"initilize attribute to describe the car\"\"\"\n",
    "        self.make = make\n",
    "        self.model = model\n",
    "        self.year = year\n",
    "        self.meter = 0\n",
    "    def describe(self):\n",
    "        \"\"\"returned a neatly formatted name\"\"\"\n",
    "        long_name = f\"{self.make} {self.model} {self.year}\"\n",
    "        return long_name.title()\n",
    "    def meter_read(self):\n",
    "        \"\"\"returned a neatly formatted name\"\"\"\n",
    "        print(f\"This is meter reading: {self.meter}\")\n",
    "        \n",
    "mynewcar = Car('audi','a4','2019',20)\n",
    "print(mynewcar.describe())\n",
    "print(mynewcar.meter_read())"
   ]
  },
  {
   "cell_type": "code",
   "execution_count": null,
   "metadata": {},
   "outputs": [],
   "source": []
  }
 ],
 "metadata": {
  "kernelspec": {
   "display_name": "Python 3",
   "language": "python",
   "name": "python3"
  },
  "language_info": {
   "codemirror_mode": {
    "name": "ipython",
    "version": 3
   },
   "file_extension": ".py",
   "mimetype": "text/x-python",
   "name": "python",
   "nbconvert_exporter": "python",
   "pygments_lexer": "ipython3",
   "version": "3.7.3"
  }
 },
 "nbformat": 4,
 "nbformat_minor": 2
}
