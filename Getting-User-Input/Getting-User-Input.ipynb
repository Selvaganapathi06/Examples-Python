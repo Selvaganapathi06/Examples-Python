{
 "cells": [
  {
   "cell_type": "code",
   "execution_count": 3,
   "metadata": {},
   "outputs": [
    {
     "name": "stdout",
     "output_type": "stream",
     "text": [
      "What is your name? Jack\n",
      "what is your native? london\n",
      "my name is JACK and from my native is LONDON\n"
     ]
    }
   ],
   "source": [
    "#Getting String Input\n",
    "name = input(\"What is your name? \").upper()\n",
    "native = input(\"what is your native? \").upper()\n",
    "print(f\"my name is {name} and from my native is {native}\")"
   ]
  },
  {
   "cell_type": "code",
   "execution_count": 4,
   "metadata": {},
   "outputs": [
    {
     "name": "stdout",
     "output_type": "stream",
     "text": [
      "Please enter your monthly salary: 2345.6\n",
      "Please enter your month bonus: 12.6\n",
      "your overall month salary is: 2358.2\n"
     ]
    }
   ],
   "source": [
    "#Getting Floating Number Input\n",
    "monthsalary = float(input(\"Please enter your monthly salary: \")) \n",
    "monthbonus = float(input(\"Please enter your month bonus: \"))\n",
    "Overallmonthsalary = monthsalary + monthbonus\n",
    "print(f\"your overall month salary is: {Overallmonthsalary}\")"
   ]
  },
  {
   "cell_type": "code",
   "execution_count": null,
   "metadata": {},
   "outputs": [],
   "source": [
    "#Getting Integer input\n",
    "\n",
    "\n",
    "\n"
   ]
  }
 ],
 "metadata": {
  "kernelspec": {
   "display_name": "Python 3",
   "language": "python",
   "name": "python3"
  },
  "language_info": {
   "codemirror_mode": {
    "name": "ipython",
    "version": 3
   },
   "file_extension": ".py",
   "mimetype": "text/x-python",
   "name": "python",
   "nbconvert_exporter": "python",
   "pygments_lexer": "ipython3",
   "version": "3.7.3"
  }
 },
 "nbformat": 4,
 "nbformat_minor": 2
}
