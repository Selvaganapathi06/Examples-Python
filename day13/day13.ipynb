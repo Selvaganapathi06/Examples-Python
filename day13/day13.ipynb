{
 "cells": [
  {
   "cell_type": "code",
   "execution_count": 1,
   "metadata": {},
   "outputs": [
    {
     "name": "stdout",
     "output_type": "stream",
     "text": [
      "enter your height in cm :133\n",
      "\n",
      " eligible for taking ticket in bus\n"
     ]
    }
   ],
   "source": [
    "#getting dynamic input \n",
    "hei = input(\"enter your height in cm :\")\n",
    "hei1 = int(hei)\n",
    "if hei1 >= 120:\n",
    "    print(\"\\n eligible for taking ticket in bus\")\n",
    "else:\n",
    "    print(\"\\n not eligible for taking ticket\")"
   ]
  },
  {
   "cell_type": "code",
   "execution_count": 3,
   "metadata": {},
   "outputs": [
    {
     "name": "stdout",
     "output_type": "stream",
     "text": [
      "0\n",
      "0\n",
      "3\n"
     ]
    }
   ],
   "source": [
    "#Modulas operator\n",
    "a =4%2\n",
    "b = 3%1\n",
    "c = 11%4\n",
    "\n",
    "print(a)\n",
    "print(b)\n",
    "print(c)"
   ]
  },
  {
   "cell_type": "code",
   "execution_count": 6,
   "metadata": {},
   "outputs": [
    {
     "name": "stdout",
     "output_type": "stream",
     "text": [
      "Enter your no: 569\n",
      "\n",
      " the value 569 is odd number.\n"
     ]
    }
   ],
   "source": [
    "#odd or even\n",
    "num = input(\"Enter your no: \")\n",
    "num1 = int(num)\n",
    "if num1%2 == 0:\n",
    "    print(f\"\\n the value {num1} is even number.\")\n",
    "else:\n",
    "    print(f\"\\n the value {num1} is odd number.\")"
   ]
  },
  {
   "cell_type": "code",
   "execution_count": 7,
   "metadata": {},
   "outputs": [
    {
     "name": "stdout",
     "output_type": "stream",
     "text": [
      "1\n",
      "2\n",
      "3\n",
      "4\n",
      "5\n",
      "6\n",
      "7\n",
      "8\n",
      "9\n",
      "10\n",
      "11\n",
      "12\n",
      "13\n",
      "14\n",
      "15\n",
      "16\n",
      "17\n",
      "18\n",
      "19\n",
      "20\n"
     ]
    }
   ],
   "source": [
    "#while loop\n",
    "cur_val = 1\n",
    "while cur_val <= 20:\n",
    "    print(cur_val)\n",
    "    cur_val = cur_val + 1"
   ]
  },
  {
   "cell_type": "code",
   "execution_count": null,
   "metadata": {},
   "outputs": [],
   "source": []
  }
 ],
 "metadata": {
  "kernelspec": {
   "display_name": "Python 3",
   "language": "python",
   "name": "python3"
  },
  "language_info": {
   "codemirror_mode": {
    "name": "ipython",
    "version": 3
   },
   "file_extension": ".py",
   "mimetype": "text/x-python",
   "name": "python",
   "nbconvert_exporter": "python",
   "pygments_lexer": "ipython3",
   "version": "3.7.3"
  }
 },
 "nbformat": 4,
 "nbformat_minor": 2
}
