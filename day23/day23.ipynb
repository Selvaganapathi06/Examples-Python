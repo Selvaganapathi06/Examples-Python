{
 "cells": [
  {
   "cell_type": "code",
   "execution_count": 13,
   "metadata": {},
   "outputs": [
    {
     "name": "stdout",
     "output_type": "stream",
     "text": [
      "hi,hello how are you\n",
      "python example\n",
      "files related topic\n",
      "read,write,update,delete\n"
     ]
    }
   ],
   "source": [
    "#Read files\n",
    "#ex1\n",
    "f = open(r\"D:\\python30daystraining\\day23\\NewTextDocument.txt\",\"r\")\n",
    "print(f.read())"
   ]
  },
  {
   "cell_type": "code",
   "execution_count": 24,
   "metadata": {},
   "outputs": [
    {
     "name": "stdout",
     "output_type": "stream",
     "text": [
      "hi,hello how are you\n",
      "python example\n",
      "files related topic\n",
      "read,write,update,delete\n"
     ]
    }
   ],
   "source": [
    "#Read files\n",
    "#ex1\n",
    "f = open(r\"D:\\python30daystraining\\day23\\NewTextDocument.txt\",\"r\")\n",
    "print(f.read())"
   ]
  },
  {
   "cell_type": "code",
   "execution_count": 19,
   "metadata": {},
   "outputs": [
    {
     "name": "stdout",
     "output_type": "stream",
     "text": [
      "hi,hello how are you\n",
      "python example\n",
      "files related topic\n",
      "read,write,update,delete\n"
     ]
    }
   ],
   "source": [
    "#ex2\n",
    "path=r\"D:\\python30daystraining\\day23\\NewTextDocument.txt\"\n",
    "f = open(path,\"r\")\n",
    "print(f.read())"
   ]
  },
  {
   "cell_type": "code",
   "execution_count": 20,
   "metadata": {},
   "outputs": [
    {
     "name": "stdout",
     "output_type": "stream",
     "text": [
      "hi,hello how are you\n"
     ]
    }
   ],
   "source": [
    "#ex3\n",
    "path=r\"D:\\python30daystraining\\day23\\NewTextDocument.txt\"\n",
    "f = open(path,\"r\")\n",
    "print(f.read(20))"
   ]
  },
  {
   "cell_type": "code",
   "execution_count": 22,
   "metadata": {},
   "outputs": [
    {
     "name": "stdout",
     "output_type": "stream",
     "text": [
      "hi,hello how are you\n",
      "\n",
      "python example\n",
      "\n",
      "files related topic\n",
      "\n"
     ]
    }
   ],
   "source": [
    "#ex4\n",
    "path=r\"D:\\python30daystraining\\day23\\NewTextDocument.txt\"\n",
    "f = open(path,\"r\")\n",
    "print(f.readline())\n",
    "print(f.readline())\n",
    "print(f.readline())"
   ]
  },
  {
   "cell_type": "code",
   "execution_count": 23,
   "metadata": {},
   "outputs": [
    {
     "name": "stdout",
     "output_type": "stream",
     "text": [
      "hi,hello how are you\n",
      "\n",
      "python example\n",
      "\n",
      "files related topic\n",
      "\n",
      "read,write,update,delete\n"
     ]
    }
   ],
   "source": [
    "#ex5\n",
    "path=r\"D:\\python30daystraining\\day23\\NewTextDocument.txt\"\n",
    "f = open(path,\"r\")\n",
    "for x in f:\n",
    "    print(x)"
   ]
  },
  {
   "cell_type": "code",
   "execution_count": 12,
   "metadata": {},
   "outputs": [
    {
     "name": "stdout",
     "output_type": "stream",
     "text": [
      "hi,hello how are you\n",
      "python example\n",
      "files related topic\n",
      "read,write,update,delete\n"
     ]
    }
   ],
   "source": [
    "#ex6\n",
    "with open(r\"D:\\python30daystraining\\day23\\New Text Document.txt\") as fobj:\n",
    "    print(fobj.read())"
   ]
  },
  {
   "cell_type": "code",
   "execution_count": 26,
   "metadata": {},
   "outputs": [
    {
     "name": "stdout",
     "output_type": "stream",
     "text": [
      "hi,hello how are you\n",
      "python example\n",
      "files related topic\n",
      "read,write,update,delete\n"
     ]
    }
   ],
   "source": [
    "#ex7\n",
    "f = open(r\"D:\\python30daystraining\\day23\\NewTextDocument.txt\",\"r\")\n",
    "print(f.read())\n",
    "f.close()"
   ]
  },
  {
   "cell_type": "code",
   "execution_count": 30,
   "metadata": {},
   "outputs": [
    {
     "name": "stdout",
     "output_type": "stream",
     "text": [
      "hi,hello how are you\n",
      "python example\n",
      "files related topic\n",
      "read,write,update,deleteaddditional added valueaddditional added valueaddditional added valueaddditional added value\n"
     ]
    }
   ],
   "source": [
    "#writing exisisting file\n",
    "f = open(r\"D:\\python30daystraining\\day23\\NewTextDocument.txt\",\"a\")\n",
    "f.write(\"addditional added value\")\n",
    "f.close()\n",
    "f = open(r\"D:\\python30daystraining\\day23\\NewTextDocument.txt\",\"r\")\n",
    "print(f.read())\n",
    "f.close()\n"
   ]
  },
  {
   "cell_type": "code",
   "execution_count": 32,
   "metadata": {},
   "outputs": [
    {
     "name": "stdout",
     "output_type": "stream",
     "text": [
      "addditional added value\n"
     ]
    }
   ],
   "source": [
    "#ex1\n",
    "f = open(r\"D:\\python30daystraining\\day23\\NewTextDocument.txt\",\"w\")\n",
    "f.write(\"addditional added value\")\n",
    "f.close()\n",
    "f = open(r\"D:\\python30daystraining\\day23\\NewTextDocument.txt\",\"r\")\n",
    "print(f.read())\n",
    "f.close()"
   ]
  },
  {
   "cell_type": "code",
   "execution_count": 33,
   "metadata": {},
   "outputs": [
    {
     "name": "stdout",
     "output_type": "stream",
     "text": [
      "addditional added value\n"
     ]
    }
   ],
   "source": [
    "#create a new file and add the value\n",
    "f = open(r\"D:\\python30daystraining\\day23\\NewTextDocument12.txt\",\"x\")\n",
    "f.write(\"addditional added value\")\n",
    "f.close()\n",
    "f = open(r\"D:\\python30daystraining\\day23\\NewTextDocument12.txt\",\"r\")\n",
    "print(f.read())\n",
    "f.close()"
   ]
  },
  {
   "cell_type": "code",
   "execution_count": 37,
   "metadata": {},
   "outputs": [],
   "source": [
    "#remove a file\n",
    "import os\n",
    "os.remove(r\"D:\\python30daystraining\\day23\\NewTextDocument13.txt\")"
   ]
  },
  {
   "cell_type": "code",
   "execution_count": 39,
   "metadata": {},
   "outputs": [],
   "source": [
    "#check if file already exsist\n",
    "import os\n",
    "if os.path.exists(r\"D:\\python30daystraining\\day23\\NewTextDocument14.txt\"):\n",
    "    os.remove(r\"D:\\python30daystraining\\day23\\NewTextDocument14.txt\")\n",
    "else:\n",
    "    print(\"file not present\")"
   ]
  },
  {
   "cell_type": "code",
   "execution_count": 40,
   "metadata": {},
   "outputs": [
    {
     "name": "stdout",
     "output_type": "stream",
     "text": [
      "file not present\n"
     ]
    }
   ],
   "source": [
    "#ex1\n",
    "import os\n",
    "if os.path.exists(r\"D:\\python30daystraining\\day23\\NewTextDocument14.txt\"):\n",
    "    os.remove(r\"D:\\python30daystraining\\day23\\NewTextDocument14.txt\")\n",
    "else:\n",
    "    print(\"file not present\")"
   ]
  }
 ],
 "metadata": {
  "kernelspec": {
   "display_name": "Python 3",
   "language": "python",
   "name": "python3"
  },
  "language_info": {
   "codemirror_mode": {
    "name": "ipython",
    "version": 3
   },
   "file_extension": ".py",
   "mimetype": "text/x-python",
   "name": "python",
   "nbconvert_exporter": "python",
   "pygments_lexer": "ipython3",
   "version": "3.7.3"
  }
 },
 "nbformat": 4,
 "nbformat_minor": 2
}
