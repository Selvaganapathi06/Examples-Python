{
 "cells": [
  {
   "cell_type": "code",
   "execution_count": 5,
   "metadata": {},
   "outputs": [
    {
     "name": "stdout",
     "output_type": "stream",
     "text": [
      "Enter a first number: 23\n",
      "Enter a second number: 567\n",
      "num2 is big 567\n"
     ]
    }
   ],
   "source": [
    "#Write a function find a maximum of two numbers\n",
    "\n",
    "def max2num(a,b):\n",
    "    if a == b:\n",
    "        print(\"both are equal\")\n",
    "    elif a > b:\n",
    "        print(\"num1 is big\", a)\n",
    "    else:\n",
    "        print(\"num2 is big\",b)\n",
    "        \n",
    "if __name__==\"__main__\":\n",
    "\n",
    "    \n",
    "    num1 = int(input(\"Enter a first number: \"))\n",
    "    num2 =int(input(\"Enter a second number: \"))\n",
    "    max2num(num1,num2)\n",
    "    \n",
    "    "
   ]
  },
  {
   "cell_type": "code",
   "execution_count": null,
   "metadata": {},
   "outputs": [],
   "source": []
  }
 ],
 "metadata": {
  "kernelspec": {
   "display_name": "Python 3",
   "language": "python",
   "name": "python3"
  },
  "language_info": {
   "codemirror_mode": {
    "name": "ipython",
    "version": 3
   },
   "file_extension": ".py",
   "mimetype": "text/x-python",
   "name": "python",
   "nbconvert_exporter": "python",
   "pygments_lexer": "ipython3",
   "version": "3.7.3"
  }
 },
 "nbformat": 4,
 "nbformat_minor": 2
}
