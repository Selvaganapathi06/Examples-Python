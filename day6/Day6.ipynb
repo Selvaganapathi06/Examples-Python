{
 "cells": [
  {
   "cell_type": "code",
   "execution_count": 1,
   "metadata": {},
   "outputs": [
    {
     "name": "stdout",
     "output_type": "stream",
     "text": [
      "['red', 'green', 'yellow']\n"
     ]
    }
   ],
   "source": [
    "#slicing a list\n",
    "colors = [\"red\",\"green\",\"yellow\",\"blue\",\"orange\"]\n",
    "#print only first three colors\n",
    "print(colors[0:3])"
   ]
  },
  {
   "cell_type": "code",
   "execution_count": 2,
   "metadata": {},
   "outputs": [
    {
     "name": "stdout",
     "output_type": "stream",
     "text": [
      "['yellow', 'blue', 'orange']\n"
     ]
    }
   ],
   "source": [
    "colors = [\"red\",\"green\",\"yellow\",\"blue\",\"orange\"]\n",
    "#print last three colors\n",
    "print(colors[2:5])"
   ]
  },
  {
   "cell_type": "code",
   "execution_count": 4,
   "metadata": {},
   "outputs": [
    {
     "name": "stdout",
     "output_type": "stream",
     "text": [
      "['yellow', 'blue', 'orange']\n",
      "['red', 'green']\n"
     ]
    }
   ],
   "source": [
    "colors = [\"red\",\"green\",\"yellow\",\"blue\",\"orange\"]\n",
    "#only mention starting \n",
    "print(colors[2:])\n",
    "print(colors[:2])\n"
   ]
  },
  {
   "cell_type": "code",
   "execution_count": 5,
   "metadata": {},
   "outputs": [
    {
     "name": "stdout",
     "output_type": "stream",
     "text": [
      "red\n",
      "green\n"
     ]
    }
   ],
   "source": [
    "#slicing using for loop\n",
    "\n",
    "colors = [\"red\",\"green\",\"yellow\",\"blue\",\"orange\"]\n",
    "\n",
    "for x in colors[:2]:\n",
    "    print(x)\n",
    "\n",
    "\n",
    "\n",
    "\n"
   ]
  },
  {
   "cell_type": "code",
   "execution_count": 6,
   "metadata": {},
   "outputs": [
    {
     "name": "stdout",
     "output_type": "stream",
     "text": [
      "['tamil', 'english', 'hindi']\n"
     ]
    }
   ],
   "source": [
    "#copying list\n",
    "my_lang = [\"tamil\",\"english\",\"hindi\"]\n",
    "frien_lan = my_lang[:]\n",
    "print(frien_lan)"
   ]
  },
  {
   "cell_type": "code",
   "execution_count": 9,
   "metadata": {},
   "outputs": [
    {
     "name": "stdout",
     "output_type": "stream",
     "text": [
      "['tamil', 'english', 'hindi', 'malayalam', 'malayalam', 'malayalam']\n",
      "['tamil', 'english', 'hindi', 'telgu', 'telgu']\n"
     ]
    }
   ],
   "source": [
    "#add item fro list\n",
    "my_lang.append(\"malayalam\")\n",
    "frien_lan.append(\"telgu\")\n",
    "print(my_lang)\n",
    "print(frien_lan)"
   ]
  },
  {
   "cell_type": "code",
   "execution_count": null,
   "metadata": {},
   "outputs": [],
   "source": []
  }
 ],
 "metadata": {
  "kernelspec": {
   "display_name": "Python 3",
   "language": "python",
   "name": "python3"
  },
  "language_info": {
   "codemirror_mode": {
    "name": "ipython",
    "version": 3
   },
   "file_extension": ".py",
   "mimetype": "text/x-python",
   "name": "python",
   "nbconvert_exporter": "python",
   "pygments_lexer": "ipython3",
   "version": "3.7.3"
  }
 },
 "nbformat": 4,
 "nbformat_minor": 2
}
