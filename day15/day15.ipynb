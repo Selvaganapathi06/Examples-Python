{
 "cells": [
  {
   "cell_type": "code",
   "execution_count": 3,
   "metadata": {},
   "outputs": [
    {
     "name": "stdout",
     "output_type": "stream",
     "text": [
      "i have a dog\n",
      "i have a dog's name as jimmy\n"
     ]
    }
   ],
   "source": [
    "#Positional arguments\n",
    "def describe(animaltype,petname):\n",
    "    \"\"\"Display positional arguments\"\"\"\n",
    "    print(f\"i have a {animaltype}\")\n",
    "    print(f\"i have a {animaltype}'s name as {petname}\")\n",
    "describe(\"dog\",\"jimmy\")"
   ]
  },
  {
   "cell_type": "code",
   "execution_count": 4,
   "metadata": {},
   "outputs": [
    {
     "name": "stdout",
     "output_type": "stream",
     "text": [
      "i have a dog\n",
      "i have a dog's name as jimmy\n"
     ]
    }
   ],
   "source": [
    "#keyword arguments\n",
    "def describe(animaltype,petname):\n",
    "    \"\"\"Display positional arguments\"\"\"\n",
    "    print(f\"i have a {animaltype}\")\n",
    "    print(f\"i have a {animaltype}'s name as {petname}\")\n",
    "describe(animaltype=\"dog\",petname=\"jimmy\")\n",
    "\n"
   ]
  },
  {
   "cell_type": "code",
   "execution_count": 5,
   "metadata": {},
   "outputs": [
    {
     "name": "stdout",
     "output_type": "stream",
     "text": [
      "Selva Ganapathi\n"
     ]
    }
   ],
   "source": [
    "#return the value from a function\n",
    "def fullname(fname,lname):\n",
    "    \"\"\"return value from a function\"\"\"\n",
    "    fullname = f\"{fname} {lname}\"\n",
    "    return fullname.title()\n",
    "msg = fullname (\"selva\",\"ganapathi\")\n",
    "print(msg)"
   ]
  },
  {
   "cell_type": "code",
   "execution_count": null,
   "metadata": {},
   "outputs": [],
   "source": []
  }
 ],
 "metadata": {
  "kernelspec": {
   "display_name": "Python 3",
   "language": "python",
   "name": "python3"
  },
  "language_info": {
   "codemirror_mode": {
    "name": "ipython",
    "version": 3
   },
   "file_extension": ".py",
   "mimetype": "text/x-python",
   "name": "python",
   "nbconvert_exporter": "python",
   "pygments_lexer": "ipython3",
   "version": "3.7.3"
  }
 },
 "nbformat": 4,
 "nbformat_minor": 2
}
