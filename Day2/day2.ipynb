{
 "cells": [
  {
   "cell_type": "code",
   "execution_count": 1,
   "metadata": {},
   "outputs": [
    {
     "name": "stdout",
     "output_type": "stream",
     "text": [
      "Selvaganapathi\n"
     ]
    }
   ],
   "source": [
    "#String formating1\n",
    "\n",
    "fname = 'Selva'\n",
    "lname = 'ganapathi'\n",
    "fullname = f\"{fname}{lname}\"\n",
    "print(fullname)\n",
    "\n"
   ]
  },
  {
   "cell_type": "code",
   "execution_count": 2,
   "metadata": {},
   "outputs": [
    {
     "name": "stdout",
     "output_type": "stream",
     "text": [
      "Selva ganapathi\n"
     ]
    }
   ],
   "source": [
    "#String formating2\n",
    "\n",
    "fname = 'Selva'\n",
    "lname = 'ganapathi'\n",
    "fullname = f\"{fname} {lname}\"\n",
    "print(fullname)\n"
   ]
  },
  {
   "cell_type": "code",
   "execution_count": 3,
   "metadata": {},
   "outputs": [
    {
     "name": "stdout",
     "output_type": "stream",
     "text": [
      "Selvaganapathi\n",
      "\t selvaganapathi\n"
     ]
    }
   ],
   "source": [
    "#Adding whitespaces\n",
    "a = \"Selvaganapathi\"\n",
    "print(a)\n",
    "print(\"\\t selvaganapathi\")"
   ]
  },
  {
   "cell_type": "code",
   "execution_count": 5,
   "metadata": {},
   "outputs": [
    {
     "name": "stdout",
     "output_type": "stream",
     "text": [
      "programming languages: \n",
      " 1.c \n",
      " 2.c++ \n",
      " 3. Java\n"
     ]
    }
   ],
   "source": [
    "#new line\n",
    "print(\"programming languages: \\n 1.c \\n 2.c++ \\n 3. Java\")"
   ]
  },
  {
   "cell_type": "code",
   "execution_count": 6,
   "metadata": {},
   "outputs": [
    {
     "name": "stdout",
     "output_type": "stream",
     "text": [
      "selva         \n",
      "selva\n"
     ]
    }
   ],
   "source": [
    "#remove whitespaces\n",
    "a = \"selva         \"\n",
    "print(a)\n",
    "print(a.strip())"
   ]
  },
  {
   "cell_type": "code",
   "execution_count": 7,
   "metadata": {},
   "outputs": [
    {
     "name": "stdout",
     "output_type": "stream",
     "text": [
      "15\n",
      "5\n",
      "50\n",
      "2.0\n",
      "0\n"
     ]
    }
   ],
   "source": [
    "#operators\n",
    "x = 10\n",
    "y = 5\n",
    "\n",
    "c = x+y\n",
    "d = x-y\n",
    "e = x*y\n",
    "f = x/y\n",
    "g = x%y\n",
    "print(c)\n",
    "print(d)\n",
    "print(e)\n",
    "print(f)\n",
    "print(g)\n"
   ]
  },
  {
   "cell_type": "code",
   "execution_count": 8,
   "metadata": {},
   "outputs": [
    {
     "name": "stdout",
     "output_type": "stream",
     "text": [
      "The Zen of Python, by Tim Peters\n",
      "\n",
      "Beautiful is better than ugly.\n",
      "Explicit is better than implicit.\n",
      "Simple is better than complex.\n",
      "Complex is better than complicated.\n",
      "Flat is better than nested.\n",
      "Sparse is better than dense.\n",
      "Readability counts.\n",
      "Special cases aren't special enough to break the rules.\n",
      "Although practicality beats purity.\n",
      "Errors should never pass silently.\n",
      "Unless explicitly silenced.\n",
      "In the face of ambiguity, refuse the temptation to guess.\n",
      "There should be one-- and preferably only one --obvious way to do it.\n",
      "Although that way may not be obvious at first unless you're Dutch.\n",
      "Now is better than never.\n",
      "Although never is often better than *right* now.\n",
      "If the implementation is hard to explain, it's a bad idea.\n",
      "If the implementation is easy to explain, it may be a good idea.\n",
      "Namespaces are one honking great idea -- let's do more of those!\n"
     ]
    }
   ],
   "source": [
    "import this"
   ]
  },
  {
   "cell_type": "code",
   "execution_count": null,
   "metadata": {},
   "outputs": [],
   "source": []
  }
 ],
 "metadata": {
  "kernelspec": {
   "display_name": "Python 3",
   "language": "python",
   "name": "python3"
  },
  "language_info": {
   "codemirror_mode": {
    "name": "ipython",
    "version": 3
   },
   "file_extension": ".py",
   "mimetype": "text/x-python",
   "name": "python",
   "nbconvert_exporter": "python",
   "pygments_lexer": "ipython3",
   "version": "3.7.3"
  }
 },
 "nbformat": 4,
 "nbformat_minor": 2
}
