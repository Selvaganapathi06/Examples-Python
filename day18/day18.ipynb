{
 "cells": [
  {
   "cell_type": "code",
   "execution_count": 1,
   "metadata": {},
   "outputs": [
    {
     "name": "stdout",
     "output_type": "stream",
     "text": [
      "hello, selvaganapathi\n"
     ]
    }
   ],
   "source": [
    "#Basic Class\n",
    "class ClassName:\n",
    "    def create(self,name):\n",
    "        self.name = name\n",
    "    def displayname(self):\n",
    "        return self.name\n",
    "    def savename(self):\n",
    "        print(f\"hello, {self.name}\")\n",
    "myobj =  ClassName()\n",
    "myobj.create(\"selvaganapathi\")\n",
    "myobj.displayname()\n",
    "myobj.savename()\n"
   ]
  },
  {
   "cell_type": "code",
   "execution_count": 3,
   "metadata": {},
   "outputs": [
    {
     "name": "stdout",
     "output_type": "stream",
     "text": [
      "5\n"
     ]
    }
   ],
   "source": [
    "#simple ex1\n",
    "class Exam1:\n",
    "    x=5\n",
    "myobj = Exam1()\n",
    "print(myobj.x)"
   ]
  },
  {
   "cell_type": "code",
   "execution_count": 12,
   "metadata": {},
   "outputs": [
    {
     "name": "stdout",
     "output_type": "stream",
     "text": [
      "my name is selva.\n",
      "my age is 18.\n",
      "Name: selva.\n",
      "Age: 18.\n"
     ]
    }
   ],
   "source": [
    "#example of init()\n",
    "class IniMeth:\n",
    "    def __init__(self,name,age):\n",
    "        self.name = name\n",
    "        self.age = age\n",
    "        \n",
    "    def writ(self):\n",
    "        print(f\"Name: {self.name}.\")\n",
    "        print(f\"Age: {self.age}.\")\n",
    "        \n",
    "p = IniMeth(\"selva\",18)\n",
    "print(f\"my name is {p.name}.\")\n",
    "print(f\"my age is {p.age}.\")\n",
    "p.writ()"
   ]
  },
  {
   "cell_type": "code",
   "execution_count": 13,
   "metadata": {},
   "outputs": [
    {
     "name": "stdout",
     "output_type": "stream",
     "text": [
      "Name: selva.\n",
      "Age: 18.\n",
      "28\n"
     ]
    }
   ],
   "source": [
    "#modify object properties\n",
    "class IniMeth:\n",
    "    def __init__(self,name,age):\n",
    "        self.name = name\n",
    "        self.age = age\n",
    "        \n",
    "    def writ(self):\n",
    "        print(f\"Name: {self.name}.\")\n",
    "        print(f\"Age: {self.age}.\")\n",
    "        \n",
    "p = IniMeth(\"selva\",18)\n",
    "p.writ()\n",
    "p.age =28\n",
    "print(p.age)\n"
   ]
  },
  {
   "cell_type": "code",
   "execution_count": null,
   "metadata": {},
   "outputs": [],
   "source": []
  }
 ],
 "metadata": {
  "kernelspec": {
   "display_name": "Python 3",
   "language": "python",
   "name": "python3"
  },
  "language_info": {
   "codemirror_mode": {
    "name": "ipython",
    "version": 3
   },
   "file_extension": ".py",
   "mimetype": "text/x-python",
   "name": "python",
   "nbconvert_exporter": "python",
   "pygments_lexer": "ipython3",
   "version": "3.7.3"
  }
 },
 "nbformat": 4,
 "nbformat_minor": 2
}
