{
 "cells": [
  {
   "cell_type": "code",
   "execution_count": 4,
   "metadata": {},
   "outputs": [
    {
     "name": "stdout",
     "output_type": "stream",
     "text": [
      "1\n",
      "2\n",
      "3\n",
      "4\n",
      "5\n"
     ]
    }
   ],
   "source": [
    "#while loop continuous\n",
    "count = 1\n",
    "while count <=5:\n",
    "    print(count)\n",
    "    count+=1\n",
    "    "
   ]
  },
  {
   "cell_type": "code",
   "execution_count": 7,
   "metadata": {},
   "outputs": [
    {
     "name": "stdout",
     "output_type": "stream",
     "text": [
      "1 2 3 4 5 "
     ]
    }
   ],
   "source": [
    "#while loop continuous without next line\n",
    "count = 1\n",
    "while count <=5:\n",
    "    print(count, end =\" \")\n",
    "    count+=1\n",
    "    "
   ]
  },
  {
   "cell_type": "code",
   "execution_count": 15,
   "metadata": {},
   "outputs": [
    {
     "name": "stdout",
     "output_type": "stream",
     "text": [
      "\n",
      " tell me something and it will be repeat it\n",
      " Enter 'quit' to end the program: quit\n",
      "quit\n"
     ]
    }
   ],
   "source": [
    "#User choose the letter when to quit\n",
    "prompt = \"\\n tell me something and it will be repeat it\"\n",
    "prompt += \"\\n Enter 'quit' to end the program: \"\n",
    "message = \"\"\n",
    "while message != 'quit':\n",
    "    message = input(prompt)\n",
    "    print(message)"
   ]
  },
  {
   "cell_type": "code",
   "execution_count": 16,
   "metadata": {},
   "outputs": [
    {
     "name": "stdout",
     "output_type": "stream",
     "text": [
      "\n",
      " tell me something and it will be repeat it\n",
      " Enter 'quit' to end the program: quit\n",
      "quit\n"
     ]
    }
   ],
   "source": [
    "#User choose the letter when to quit\n",
    "pro = \"\\n tell me something and it will be repeat it\"\n",
    "pro += \"\\n Enter 'quit' to end the program: \"\n",
    "message = \"\"\n",
    "while message != 'quit':\n",
    "    message = input(pro)\n",
    "    print(message)"
   ]
  },
  {
   "cell_type": "code",
   "execution_count": 18,
   "metadata": {},
   "outputs": [
    {
     "name": "stdout",
     "output_type": "stream",
     "text": [
      "hello selvaganapathi\n"
     ]
    }
   ],
   "source": [
    "#Function\n",
    "#Defining function in python\n",
    "def greet_user():\n",
    "    print(\"hello selvaganapathi\")\n",
    "greet_user()"
   ]
  },
  {
   "cell_type": "code",
   "execution_count": 22,
   "metadata": {},
   "outputs": [
    {
     "name": "stdout",
     "output_type": "stream",
     "text": [
      "Selvaganapathi\n",
      "hello, Selvaganapathi\n"
     ]
    }
   ],
   "source": [
    "#doc string\n",
    "#function with parameters\n",
    "#passing input as arguments\n",
    "def greet(name):\n",
    "    \"\"\"Basic function definition and argument via input passing\"\"\"\n",
    "    print(name.title())\n",
    "    print(f\"hello, {name.title()}\")\n",
    "greet(\"selvaganapathi\")"
   ]
  },
  {
   "cell_type": "code",
   "execution_count": null,
   "metadata": {},
   "outputs": [],
   "source": []
  }
 ],
 "metadata": {
  "kernelspec": {
   "display_name": "Python 3",
   "language": "python",
   "name": "python3"
  },
  "language_info": {
   "codemirror_mode": {
    "name": "ipython",
    "version": 3
   },
   "file_extension": ".py",
   "mimetype": "text/x-python",
   "name": "python",
   "nbconvert_exporter": "python",
   "pygments_lexer": "ipython3",
   "version": "3.7.3"
  }
 },
 "nbformat": 4,
 "nbformat_minor": 2
}
